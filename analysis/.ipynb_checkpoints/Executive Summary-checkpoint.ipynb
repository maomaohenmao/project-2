{
 "cells": [
  {
   "cell_type": "markdown",
   "metadata": {},
   "source": [
    "# Executive Summary\n",
    "## Crime and Race in Washington, D.C."
   ]
  },
  {
   "cell_type": "markdown",
   "metadata": {},
   "source": [
    "### Introduction\n",
    "Using publicly available data from the Washington, D.C. Metropolitan Police Department and U.S. Census Bureau, I explore the relationship between crime rates in the district and neighborhood minority composition. I am interested in identifying any disparities in crime rates between majority minority neighborhoods (Census tracts for my analysis) and what neighborhood-level factors may be contributing to these disparities.\n",
    "\n",
    "### Data\n",
    "Data on reported crime incidents in Washington, D.C. for 2017 was obtained from the Metropolitan Police Departmet's website. For the purposes of my analysis, I am primarily interested in the following information provided by this dataset: the type of offense committed, the method by which the offense was committed, and the location the offense was committed. In 2017, there were 33,070 total crimes reported in the district.\n",
    "\n",
    "Data on tract-level characteristics, including median household income, the unemployment rate, and the vacancy rate, was obtained from the U.S. Census Bureau's 2016 American Community Survey (5-Year Estimates). The vacancy rate is not directly provided by the 2016 ACS and was calculated as the number of vacant units within a tract divided by the total number of units within that tract. Median household income data was not available for two tracts. Unemployment rate and vacancy rate data was available for all tracts."
   ]
  },
  {
   "cell_type": "code",
   "execution_count": null,
   "metadata": {},
   "outputs": [],
   "source": []
  }
 ],
 "metadata": {
  "kernelspec": {
   "display_name": "Python 2",
   "language": "python",
   "name": "python2"
  },
  "language_info": {
   "codemirror_mode": {
    "name": "ipython",
    "version": 2
   },
   "file_extension": ".py",
   "mimetype": "text/x-python",
   "name": "python",
   "nbconvert_exporter": "python",
   "pygments_lexer": "ipython2",
   "version": "2.7.14"
  }
 },
 "nbformat": 4,
 "nbformat_minor": 2
}
