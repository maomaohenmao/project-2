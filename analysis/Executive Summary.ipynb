{
 "cells": [
  {
   "cell_type": "markdown",
   "metadata": {},
   "source": [
    "# Executive Summary\n",
    "## Crime and Race in Washington, D.C."
   ]
  },
  {
   "cell_type": "markdown",
   "metadata": {},
   "source": [
    "### Introduction\n",
    "Using publicly available data from the Washington, D.C. Metropolitan Police Department and U.S. Census Bureau, I explore the relationship between crime rates in the district and neighborhood minority composition. I am interested in identifying any disparities in crime rates between majority minority neighborhoods (Census tracts for my analysis) and what neighborhood-level factors may be contributing to these disparities.\n",
    "\n",
    "### Data\n",
    "Data on reported crime incidents in Washington, D.C. for 2017 was obtained from the Metropolitan Police Departmet's website. For the purposes of my analysis, I am primarily interested in the following information provided by this dataset: the type of offense committed, the method by which the offense was committed, and the location the offense was committed. In 2017, there were 33,070 total crimes reported in the district.\n",
    "\n",
    "Data on tract-level characteristics, including median household income, the unemployment rate, and the vacancy rate, was obtained from the U.S. Census Bureau's 2016 American Community Survey (5-Year Estimates). Tract minority share was calculated as the share of the tract's population that does not identify as non-Hispanic white alone. Thus, the minority share includes individuals who reported their race as multi-race, even if one of those races was white, and individuals who reported their race as \"other\" The vacancy rate was calculated as the number of vacant units within a tract divided by the total number of units within that tract. Median household income data was not available for two tracts. Unemployment rate and vacancy rate data was available for all tracts.\n",
    "\n",
    "### Analysis\n",
    "The Metropolitan Police Department reports crime under nine separate categories: arson, assault with a dangerous weapon, burglary, homicide, robbery, sex abuse, theft from a vehicle, general theft/other, and vehicle theft. The chart below shows the levels of crime reported by offense type. Red bars indicate violent crime, while blue bars represent property crime. I have categorized violent crime as arson, assault with a dangerous weapon, homicide, robbery, and sex abouse. I have categorized property crime as burglary, theft from a vehicle, general theft/other, and vehicle theft. From the chart, we can see that general theft/other was the most common offense in the district in 2017 with over 14,000 reports. Robbery was the most common violent offense in 2017 with 2,160 incidents reported, though assault with a dangerous weapon was a close second, with 1,842 incidents reported."
   ]
  },
  {
   "cell_type": "markdown",
   "metadata": {},
   "source": [
    "![alt_text](https://github.com/qziegler/project/raw/master/analysis/images/offensetype_barchart.png)"
   ]
  },
  {
   "cell_type": "markdown",
   "metadata": {},
   "source": [
    "Overall, very few reported crimes (7%) committed in the district involved firearms or knives; 93% of all reported crimes were committed by some other method. However, the story for violent crimes is quite different. Guns were involved in 37% of robberies and assaults with a dangerous weapon and 75% of homicides. In addition, knives were involved in 35% of assaults with a dangerous weapon."
   ]
  },
  {
   "cell_type": "markdown",
   "metadata": {},
   "source": [
    "![alt_text](https://github.com/qziegler/project/raw/master/analysis/images/offensetype_method_heatmap.png)"
   ]
  },
  {
   "cell_type": "markdown",
   "metadata": {},
   "source": [
    "Crimes also occured in primarily minority areas. From the boxplot below, we see that the median tract minority share in which crimes occured was approximately 60% or greater for all offense types. By comparison, the median tract minority share in which assaults with a dangerous weapon, homicides, and robberies occured was greater than 80%. Furthermore, the median tract minority share in which crimes involving guns and knives occured was higher than the median tract minority share in which crimes were committed by some other method for all offense types. These results suggest that not only do crimes occur in primarily minority areas, but that the most dangerous and violent types of crime occur in heavily minority neighborhoods."
   ]
  },
  {
   "cell_type": "markdown",
   "metadata": {},
   "source": [
    "![alt_text](https://github.com/qziegler/project/raw/master/analysis/images/minoritydist_boxplot.png)"
   ]
  },
  {
   "cell_type": "markdown",
   "metadata": {},
   "source": [
    "For all subsequent analyses, I excluded Census tract 62.02, which represents the National Mall and surrounding area. Even though this area does not see significant amount of nominal or violent crime, its low tract population (65) in combination with the fact that it is generally a high traffic area likely explain why its imputed crime rates are extreme outliers. Looking at all other tracts, I look at the relationship between violent and property crime rates, respectively, and tract minority share (sharemin), tract median household income (hh_med_income), the unemployment rate (unemp_rate), and the vacancy rate (vacancy_rate). Crime rates are reported as the number of crimes committed per 100,000 people.\n",
    "\n",
    "Looking at the top row of the chart scatterplot matrix below, there appears to be at least some relationship between the violent crime rate and my independent variables of interest. The Spearmen correlation coefficients confirm this finding, the correlation coefficient between the violent crime rate and tract minority share is 0.621, -0.595 with respect to median household income, 0.609 with respect to the unemployment rate, and 0.402 with respect to the vacancy rate. It is also important to note that tract minority share is highly correlated with and demonstrates an almost linear relationship with median household income and the unemployment rate, as shown by the scatterplot matrix below."
   ]
  },
  {
   "cell_type": "markdown",
   "metadata": {},
   "source": [
    "![alt_text](https://github.com/qziegler/project/raw/master/analysis/images/scattermatrix_vc.png)"
   ]
  },
  {
   "cell_type": "markdown",
   "metadata": {},
   "source": [
    "Comparatively, the relationship between the property crime rate and my independent variables of interest appear very weak and the Spearmen correlation coefficients confirm this finding. The correlation coefficient between the property crime rate and tract minority share is -0.010, -0.024 with respect to median household income, 0.021 with respect to the unemployment rate, and 0.200 with respect to the vacancy rate. These results suggest that there is very possible no relationship between the property crime rate and tract minority share, median household income, and the unemployment rate."
   ]
  },
  {
   "cell_type": "markdown",
   "metadata": {},
   "source": [
    "![alt_text](https://github.com/qziegler/project/raw/master/analysis/images/scatter_matrix_pc.png)"
   ]
  },
  {
   "cell_type": "markdown",
   "metadata": {},
   "source": [
    "I performed a cluster analysis to examine the extent to which tracts could be grouped by my independent variables of interest. The below dendrogram suggests that clusters may be largely determined by tract median household income, without much regard to my other independent variables variables, and that the number of clusters may range from 2-4. Calculating the average silhouette scores for 2, 3, and 4 clusters, respectively, I find that 2 clusters produces the highest average silhousette score of 0.419, which suggests that the separation between clusters is not very distinct, even for only 2 clusters, though one cluster appears substantilly larger than the other. This result, however, is not overly surprising given the high correlations between tract minority share and unemployment rate with median household income."
   ]
  },
  {
   "cell_type": "markdown",
   "metadata": {},
   "source": [
    "![alt_text](https://github.com/qziegler/project/raw/master/analysis/images/clusterdendrogram.png)"
   ]
  },
  {
   "cell_type": "markdown",
   "metadata": {},
   "source": []
  }
 ],
 "metadata": {
  "kernelspec": {
   "display_name": "Python 2",
   "language": "python",
   "name": "python2"
  },
  "language_info": {
   "codemirror_mode": {
    "name": "ipython",
    "version": 2
   },
   "file_extension": ".py",
   "mimetype": "text/x-python",
   "name": "python",
   "nbconvert_exporter": "python",
   "pygments_lexer": "ipython2",
   "version": "2.7.14"
  }
 },
 "nbformat": 4,
 "nbformat_minor": 2
}
